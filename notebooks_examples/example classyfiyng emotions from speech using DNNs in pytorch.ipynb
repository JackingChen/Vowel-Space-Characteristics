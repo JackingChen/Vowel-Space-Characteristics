{
 "cells": [
  {
   "cell_type": "markdown",
   "metadata": {},
   "source": [
    "# Emotion recognition using Emo-DB dataset and CNN trained in pytorch\n",
    "\n",
    "### Database: Emo-DB database (free) 7 emotions\n",
    "The data can be downloaded from http://emodb.bilderbar.info/index-1024.html\n",
    "\n",
    "Code of emotions\n",
    "\n",
    "W->Anger->Wut\n",
    "\n",
    "L->Boredom->Langeweile\n",
    "\n",
    "E->Disgust->Ekel\n",
    "\n",
    "A->Anxiety/Fear->Angst\n",
    "\n",
    "F->Happiness->Freude\n",
    "\n",
    "T->Sadness->Trauer\n",
    "\n",
    "N->Neutral\n",
    "\n",
    "\n",
    "![image.png](http://iis-projects.ee.ethz.ch/images/thumb/a/a6/Emotions-on-arousal-valence-space.jpg/450px-Emotions-on-arousal-valence-space.jpg)"
   ]
  },
  {
   "cell_type": "code",
   "execution_count": 1,
   "metadata": {},
   "outputs": [],
   "source": [
    "import requests \n",
    "import zipfile\n",
    "import os\n",
    "import numpy as np\n",
    "import matplotlib.pyplot as plt\n",
    "import scipy.stats as st\n",
    "import itertools\n",
    "import sys\n",
    "sys.path.append(\"../\")\n",
    "import time\n",
    "\n",
    "# disvoice imports\n",
    "from phonation.phonation import Phonation\n",
    "from articulation.articulation import Articulation\n",
    "from prosody.prosody import Prosody\n",
    "\n",
    "from sklearn.pipeline import Pipeline\n",
    "from sklearn.preprocessing import StandardScaler\n",
    "\n",
    "\n",
    "# torch imports\n",
    "import torch\n",
    "import torch.nn.functional as F\n",
    "import torch.nn as nn\n",
    "import torch.utils.data as data\n",
    "\n",
    "from sklearn.model_selection import train_test_split\n",
    "from sklearn import preprocessing\n",
    "from sklearn import metrics\n",
    "from sklearn.utils.class_weight import compute_class_weight"
   ]
  },
  {
   "cell_type": "markdown",
   "metadata": {},
   "source": [
    "## Download and unzip data\n"
   ]
  },
  {
   "cell_type": "code",
   "execution_count": 3,
   "metadata": {},
   "outputs": [],
   "source": [
    "def download_url(url, save_path, chunk_size=128):\n",
    "    r = requests.get(url, stream=True)\n",
    "    with open(save_path, 'wb') as fd:\n",
    "        for chunk in r.iter_content(chunk_size=chunk_size):\n",
    "            fd.write(chunk)\n",
    "            \n",
    "PATH_data=\"http://emodb.bilderbar.info/download/download.zip\""
   ]
  },
  {
   "cell_type": "code",
   "execution_count": 4,
   "metadata": {},
   "outputs": [],
   "source": [
    "download_url(PATH_data, \"./download.zip\")"
   ]
  },
  {
   "cell_type": "code",
   "execution_count": 5,
   "metadata": {},
   "outputs": [],
   "source": [
    "with zipfile.ZipFile(\"./download.zip\", 'r') as zip_ref:\n",
    "    zip_ref.extractall(\"./emo-db/\")"
   ]
  },
  {
   "cell_type": "markdown",
   "metadata": {},
   "source": [
    "## prepare labels from the dataset\n",
    "\n",
    "we will get labels for two classification problems: \n",
    "\n",
    "1. high vs. low arousal emotions\n",
    "2. positive vs. negative emotions\n"
   ]
  },
  {
   "cell_type": "code",
   "execution_count": 2,
   "metadata": {},
   "outputs": [],
   "source": [
    "PATH_AUDIO=os.path.abspath(\"./emo-db/wav\")+\"/\"\n",
    "labelsd='WLEAFTN'\n",
    "labelshl=  [0, 1, 0, 0, 0, 1, 1] # 0 high arousal emotion, 1 low arousal emotions\n",
    "labelspn=  [0, 0, 0, 0, 1, 0, 1] # 0 negative valence emotion, 1 positive valence emotion\n",
    "\n",
    "hf=os.listdir(PATH_AUDIO)\n",
    "hf.sort()\n",
    "\n",
    "yArousal=np.zeros(len(hf))\n",
    "yValence=np.zeros(len(hf))\n",
    "for j in range(len(hf)):\n",
    "    name_file=hf[j]\n",
    "    label=hf[j][5]\n",
    "    poslabel=labelsd.find(label)\n",
    "    yArousal[j]=labelshl[poslabel]\n",
    "    yValence[j]=labelspn[poslabel]"
   ]
  },
  {
   "cell_type": "markdown",
   "metadata": {},
   "source": [
    "## compute features using disvoice: phonation, articulation, prosody, phonological"
   ]
  },
  {
   "cell_type": "code",
   "execution_count": 3,
   "metadata": {},
   "outputs": [],
   "source": [
    "phonationf=Phonation()\n",
    "articulationf=Articulation()\n",
    "prosodyf=Prosody()"
   ]
  },
  {
   "cell_type": "markdown",
   "metadata": {},
   "source": [
    "## phonation features "
   ]
  },
  {
   "cell_type": "code",
   "execution_count": 4,
   "metadata": {
    "scrolled": false
   },
   "outputs": [
    {
     "name": "stderr",
     "output_type": "stream",
     "text": [
      "Processing 14a07Aa.wav:  69%|██████▉   | 369/535 [00:09<00:04, 41.04it/s]../phonation/phonation.py:142: WavFileWarning: Chunk (non-data) not understood, skipping it.\n",
      "  fs, data_audio=read(audio)\n",
      "Processing 16b10Wb.wav: 100%|██████████| 535/535 [00:13<00:00, 39.05it/s]"
     ]
    },
    {
     "name": "stdout",
     "output_type": "stream",
     "text": [
      "torch.Size([535, 28])\n"
     ]
    },
    {
     "name": "stderr",
     "output_type": "stream",
     "text": [
      "\n"
     ]
    }
   ],
   "source": [
    "Xphonation=phonationf.extract_features_path(PATH_AUDIO, static=True, plots=False, fmt=\"torch\")\n",
    "print(Xphonation.size())"
   ]
  },
  {
   "cell_type": "markdown",
   "metadata": {},
   "source": [
    "## articulation features "
   ]
  },
  {
   "cell_type": "code",
   "execution_count": 5,
   "metadata": {},
   "outputs": [
    {
     "name": "stderr",
     "output_type": "stream",
     "text": [
      "Processing 14a07Aa.wav:  69%|██████▉   | 370/535 [02:05<01:02,  2.64it/s]../articulation/articulation.py:236: WavFileWarning: Chunk (non-data) not understood, skipping it.\n",
      "  fs, data_audio=read(audio)\n",
      "Processing 16b10Wb.wav: 100%|██████████| 535/535 [02:56<00:00,  3.09it/s]"
     ]
    },
    {
     "name": "stdout",
     "output_type": "stream",
     "text": [
      "torch.Size([535, 488])\n"
     ]
    },
    {
     "name": "stderr",
     "output_type": "stream",
     "text": [
      "\n"
     ]
    }
   ],
   "source": [
    "Xarticulation=articulationf.extract_features_path(PATH_AUDIO, static=True, plots=False, fmt=\"torch\")\n",
    "print(Xarticulation.size())"
   ]
  },
  {
   "cell_type": "markdown",
   "metadata": {},
   "source": [
    "## prosody features "
   ]
  },
  {
   "cell_type": "code",
   "execution_count": 6,
   "metadata": {},
   "outputs": [
    {
     "name": "stderr",
     "output_type": "stream",
     "text": [
      "Processing 14a07Aa.wav:  69%|██████▉   | 370/535 [00:51<00:25,  6.52it/s]../prosody/prosody.py:277: WavFileWarning: Chunk (non-data) not understood, skipping it.\n",
      "  fs, data_audio=read(audio)\n",
      "Processing 14a07Fd.wav:  70%|██████▉   | 372/535 [00:51<00:24,  6.76it/s]../prosody/prosody.py:277: WavFileWarning: Chunk (non-data) not understood, skipping it.\n",
      "  fs, data_audio=read(audio)\n",
      "Processing 14a07Na.wav:  70%|███████   | 375/535 [00:52<00:21,  7.29it/s]../prosody/prosody.py:277: WavFileWarning: Chunk (non-data) not understood, skipping it.\n",
      "  fs, data_audio=read(audio)\n",
      "Processing 14a07Wc.wav:  70%|███████   | 377/535 [00:52<00:24,  6.46it/s]../prosody/prosody.py:277: WavFileWarning: Chunk (non-data) not understood, skipping it.\n",
      "  fs, data_audio=read(audio)\n",
      "Processing 16b10Wb.wav: 100%|██████████| 535/535 [01:15<00:00,  6.93it/s]"
     ]
    },
    {
     "name": "stdout",
     "output_type": "stream",
     "text": [
      "torch.Size([535, 103])\n"
     ]
    },
    {
     "name": "stderr",
     "output_type": "stream",
     "text": [
      "\n"
     ]
    }
   ],
   "source": [
    "Xprosody=prosodyf.extract_features_path(PATH_AUDIO, static=True, plots=False, fmt=\"torch\")\n",
    "print(Xprosody.size())"
   ]
  },
  {
   "cell_type": "markdown",
   "metadata": {},
   "source": [
    "## define architecture of a simple neural network"
   ]
  },
  {
   "cell_type": "code",
   "execution_count": 7,
   "metadata": {},
   "outputs": [],
   "source": [
    "BATCH_SIZE=16\n",
    "LR=0.001\n",
    "class model1(nn.Module):\n",
    "    def __init__(self, feat_in):\n",
    "        super().__init__()\n",
    "        \n",
    "        self.linear1=nn.Linear(feat_in, 128)\n",
    "        self.linear2=nn.Linear(128,64)\n",
    "        self.linear3=nn.Linear(64,2)\n",
    "        self.dropout=nn.Dropout(p=0.3)\n",
    "        \n",
    "    def forward(self, x):\n",
    "        x=self.dropout(F.leaky_relu(self.linear1(x)))\n",
    "        x=self.dropout(F.leaky_relu(self.linear2(x)))\n",
    "        x=F.softmax(self.linear3(x))\n",
    "        return x"
   ]
  },
  {
   "cell_type": "markdown",
   "metadata": {},
   "source": [
    "## define dataset loader to train the DNN"
   ]
  },
  {
   "cell_type": "code",
   "execution_count": 8,
   "metadata": {},
   "outputs": [],
   "source": [
    "class Tdataset(data.Dataset):\n",
    "    def __init__(self, tensor, labels):\n",
    "        self.tensor=torch.from_numpy(tensor).float()\n",
    "        self.labels=torch.from_numpy(labels).long()\n",
    "\n",
    "    def __len__(self):\n",
    "        return len(self.labels)\n",
    "\n",
    "    def __getitem__(self, idx):\n",
    "        X=self.tensor[idx].float()\n",
    "        y=self.labels[idx]\n",
    "        return X, y"
   ]
  },
  {
   "cell_type": "markdown",
   "metadata": {},
   "source": [
    "## methods to train - evaluate the neural network"
   ]
  },
  {
   "cell_type": "code",
   "execution_count": 9,
   "metadata": {},
   "outputs": [],
   "source": [
    "def fit(model, train_loader, test_loader, optimizer, criterion, n_epochs=50):\n",
    "\n",
    "    if torch.cuda.is_available():\n",
    "        model=model.cuda()  \n",
    "    valid_loss_min = np.Inf # set initial \"min\" to infinity\n",
    "    train_loss_min=np.Inf\n",
    "    correct_test_max=0\n",
    "    \n",
    "\n",
    "    for epoch in range(n_epochs):\n",
    "        correct_train=0\n",
    "        correct_test=0\n",
    "        start=time.time()\n",
    "        # monitor training loss\n",
    "        train_loss = 0.0\n",
    "        valid_loss = 0.0\n",
    "        cdata=0\n",
    "        model.train() # prep model for training\n",
    "        #pbar=tqdm(train_loader)\n",
    "        total_train=0\n",
    "        for X, y in train_loader:\n",
    " \n",
    "            # clear the gradients of all optimized variables\n",
    "            optimizer.zero_grad()\n",
    "            if torch.cuda.is_available():\n",
    "                X=X.cuda()\n",
    "                y=y.cuda()\n",
    "\n",
    "            data_out=model(X)\n",
    "            \n",
    "            if torch.cuda.is_available():\n",
    "                data_out=data_out.cuda()\n",
    "            loss = criterion(data_out, y)\n",
    "            loss.backward()\n",
    "            optimizer.step()\n",
    "            train_loss += loss.item()*data_out.size(0)\n",
    "            \n",
    "            _, predicted = torch.max(data_out.data, 1)\n",
    "            total_train += y.size(0)\n",
    "            correct_train += (predicted == y).sum().item()\n",
    "            \n",
    "        ######################    \n",
    "        # validate the model #\n",
    "        ######################\n",
    "        model.eval() # prep model for evaluation\n",
    "        total_val=0\n",
    "        for X, y in test_loader:\n",
    "            # forward pass: compute predicted outputs by passing inputs to the model\n",
    "            if torch.cuda.is_available():\n",
    "                X=X.cuda()\n",
    "                y=y.cuda()\n",
    "\n",
    "            data_val_out=model(X)\n",
    "\n",
    "            if torch.cuda.is_available():\n",
    "                data_val_out=data_val_out.cuda()\n",
    "\n",
    "            # calculate the loss\n",
    "            loss = criterion(data_val_out, y)\n",
    "            # update running validation loss \n",
    "            valid_loss += loss.item()*data_val_out.size(0)\n",
    "            _, predicted = torch.max(data_val_out.data, 1)\n",
    "            total_val += y.size(0)\n",
    "            correct_test+= (predicted == y).sum().item()\n",
    "            \n",
    "        train_loss = train_loss/len(train_loader.dataset)\n",
    "        correct_train=correct_train/total_train\n",
    "        valid_loss = valid_loss/len(test_loader.dataset)\n",
    "        correct_test=correct_test/total_val\n",
    "\n",
    "        print('Epoch: {} \\tTraining Loss: {:.6f} \\tValid Loss: {:.6f} \\tACC train {:.6f} \\tACC test {:.6f}'.format(\n",
    "            epoch, \n",
    "            train_loss,\n",
    "            valid_loss,\n",
    "            correct_train, \n",
    "            correct_test,\n",
    "            ))\n",
    "\n",
    "        # save model if validation loss has decreased\n",
    "        if correct_test >= correct_test_max:\n",
    "            print('Validation Accuracy increased ({:.6f} --> {:.6f}).  Saving model ...'.format(\n",
    "                correct_test_max,\n",
    "                correct_test))\n",
    "\n",
    "            modelr=model\n",
    "            correct_test_max=correct_test\n",
    "\n",
    "\n",
    "    return modelr\n",
    "\n",
    "\n",
    "def predict(model, test_loader):\n",
    "\n",
    "    model.eval() # prep model for evaluation\n",
    "    y_pred=[]\n",
    "    for X, y in test_loader:\n",
    "        # forward pass: compute predicted outputs by passing inputs to the model\n",
    "        if torch.cuda.is_available():\n",
    "            X=X.cuda()\n",
    "        data_val_out=model(X)\n",
    "\n",
    "        if torch.cuda.is_available():\n",
    "            data_val_out=data_val_out.cpu()\n",
    "        y_pred.append(data_val_out.detach().numpy())\n",
    "\n",
    "    y_pred=np.concatenate(y_pred, axis=0)\n",
    "\n",
    "    return y_pred"
   ]
  },
  {
   "cell_type": "markdown",
   "metadata": {},
   "source": [
    "## Emotion classification using a DNN trained in pytorch"
   ]
  },
  {
   "cell_type": "code",
   "execution_count": 10,
   "metadata": {},
   "outputs": [],
   "source": [
    "def plot_confusion_matrix(y_true, y_pred, classes,\n",
    "                          normalize=True,\n",
    "                          cmap=plt.cm.Blues):\n",
    "    \"\"\"\n",
    "    This function prints and plots the confusion matrix.\n",
    "    Normalization can be applied by setting `normalize=True`.\n",
    "    \"\"\"\n",
    "    plt.figure(figsize=(6,6))\n",
    "    cm = metrics.confusion_matrix(y_true, y_pred)\n",
    "\n",
    "    plt.imshow(cm, interpolation='nearest', cmap=cmap)\n",
    "    plt.colorbar()\n",
    "    tick_marks = np.arange(len(classes))\n",
    "    plt.xticks(tick_marks, classes, rotation=45)\n",
    "    plt.yticks(tick_marks, classes)\n",
    "\n",
    "    if normalize:\n",
    "        cm = cm.astype('float') / cm.sum(axis=1)[:, np.newaxis]\n",
    "\n",
    "    thresh = cm.max() / 2.\n",
    "    for i, j in itertools.product(range(cm.shape[0]), range(cm.shape[1])):\n",
    "        plt.text(j, i, np.round(cm[i, j],2),\n",
    "                 horizontalalignment=\"center\",\n",
    "                 color=\"white\" if cm[i, j] > thresh else \"black\")\n",
    "\n",
    "    \n",
    "    plt.ylabel('Real class')\n",
    "    plt.xlabel('Predicted class')\n",
    "    plt.tight_layout()\n",
    "    \n",
    "    \n",
    "def classify(X, y):\n",
    "    \n",
    "    # train test split\n",
    "    Xtrain, Xtest, ytrain, ytest = train_test_split(X, y, test_size=0.30, random_state=42)\n",
    "    \n",
    "    # z-score standarization\n",
    "    scaler = preprocessing.StandardScaler().fit(Xtrain) \n",
    "    Xtrain=scaler.transform(Xtrain) \n",
    "    Xtest=scaler.transform(Xtest)\n",
    "    \n",
    "\n",
    "    weights=compute_class_weight('balanced', np.unique(ytrain), ytrain)\n",
    "    class_weights=torch.from_numpy(weights).float()\n",
    "    train=Tdataset(Xtrain, ytrain)\n",
    "    test=Tdataset(Xtest, ytest)\n",
    "\n",
    "    train_loader = torch.utils.data.DataLoader(train, batch_size=BATCH_SIZE, drop_last=True, num_workers=0)\n",
    "    test_loader = torch.utils.data.DataLoader(test, batch_size=1, drop_last=True, num_workers=0)\n",
    "\n",
    "    model=model1(X.size()[1])\n",
    "    criterion = torch.nn.CrossEntropyLoss(weight=class_weights)\n",
    "    optimizer = torch.optim.Adam(model.parameters(), lr = LR)\n",
    "        \n",
    "    model=fit(model, train_loader, test_loader, optimizer, criterion)\n",
    "    \n",
    "    ypred=predict(model, test_loader)\n",
    "    score_test=ypred[:,1]\n",
    "    ypred=np.argmax(ypred, 1)\n",
    "\n",
    "    acc=metrics.accuracy_score(ytest, ypred)\n",
    "    cm=metrics.confusion_matrix(ytest, ypred)\n",
    "    AUC=metrics.roc_auc_score(ytest, score_test)\n",
    "    dfclass=metrics.classification_report(ytest, ypred,digits=4)\n",
    "\n",
    "    # display the results\n",
    "    \n",
    "    plot_confusion_matrix(ytest, ypred, classes=[\"class 0\", \"class 1\"], normalize=True)\n",
    "    \n",
    "    plt.figure(figsize=(5,5))\n",
    "    \n",
    "    plt.plot([0, 1], [0, 1], linestyle='--', lw=2, color='r',\n",
    "         label='Chance', alpha=.8)\n",
    "    fprs, tprs, thresholds = metrics.roc_curve(ytest, score_test)\n",
    "    plt.plot(fprs, tprs, color='k',\n",
    "         label=r'Avg. ROC (AUC = %0.3f)' % (AUC),\n",
    "         lw=2, alpha=.8)\n",
    "\n",
    "    plt.xlim([-0.05, 1.05])\n",
    "    plt.ylim([-0.05, 1.05])\n",
    "    plt.xlabel('False Positive Rate')\n",
    "    plt.ylabel('True Positive Rate')\n",
    "    plt.legend(loc=\"lower right\")\n",
    "    plt.grid()\n",
    "    plt.tight_layout()\n",
    "    \n",
    "    plt.show()\n",
    "    print(\"Accuracy: \", acc)\n",
    "    print(dfclass)\n"
   ]
  },
  {
   "cell_type": "markdown",
   "metadata": {},
   "source": [
    "## classify high vs. low arousal with the different feature sets"
   ]
  },
  {
   "cell_type": "code",
   "execution_count": 11,
   "metadata": {
    "scrolled": false
   },
   "outputs": [
    {
     "name": "stderr",
     "output_type": "stream",
     "text": [
      "/home/camilo/.local/lib/python3.6/site-packages/ipykernel_launcher.py:15: UserWarning: Implicit dimension choice for softmax has been deprecated. Change the call to include dim=X as an argument.\n",
      "  from ipykernel import kernelapp as app\n"
     ]
    },
    {
     "name": "stdout",
     "output_type": "stream",
     "text": [
      "Epoch: 0 \tTraining Loss: 0.608544 \tValid Loss: 0.557118 \tACC train 0.652174 \tACC test 0.801242\n",
      "Validation Accuracy increased (0.000000 --> 0.801242).  Saving model ...\n",
      "Epoch: 1 \tTraining Loss: 0.479208 \tValid Loss: 0.469077 \tACC train 0.839674 \tACC test 0.844720\n",
      "Validation Accuracy increased (0.801242 --> 0.844720).  Saving model ...\n",
      "Epoch: 2 \tTraining Loss: 0.425783 \tValid Loss: 0.447978 \tACC train 0.877717 \tACC test 0.857143\n",
      "Validation Accuracy increased (0.844720 --> 0.857143).  Saving model ...\n",
      "Epoch: 3 \tTraining Loss: 0.411075 \tValid Loss: 0.440468 \tACC train 0.885870 \tACC test 0.869565\n",
      "Validation Accuracy increased (0.857143 --> 0.869565).  Saving model ...\n",
      "Epoch: 4 \tTraining Loss: 0.398951 \tValid Loss: 0.436368 \tACC train 0.915761 \tACC test 0.888199\n",
      "Validation Accuracy increased (0.869565 --> 0.888199).  Saving model ...\n",
      "Epoch: 5 \tTraining Loss: 0.390725 \tValid Loss: 0.433551 \tACC train 0.910326 \tACC test 0.869565\n",
      "Epoch: 6 \tTraining Loss: 0.379741 \tValid Loss: 0.434383 \tACC train 0.929348 \tACC test 0.869565\n",
      "Epoch: 7 \tTraining Loss: 0.380945 \tValid Loss: 0.437532 \tACC train 0.929348 \tACC test 0.857143\n",
      "Epoch: 8 \tTraining Loss: 0.369566 \tValid Loss: 0.442505 \tACC train 0.948370 \tACC test 0.857143\n",
      "Epoch: 9 \tTraining Loss: 0.361542 \tValid Loss: 0.444855 \tACC train 0.948370 \tACC test 0.857143\n",
      "Epoch: 10 \tTraining Loss: 0.364520 \tValid Loss: 0.444664 \tACC train 0.945652 \tACC test 0.857143\n",
      "Epoch: 11 \tTraining Loss: 0.355299 \tValid Loss: 0.447250 \tACC train 0.953804 \tACC test 0.850932\n",
      "Epoch: 12 \tTraining Loss: 0.354396 \tValid Loss: 0.449210 \tACC train 0.961957 \tACC test 0.857143\n",
      "Epoch: 13 \tTraining Loss: 0.354028 \tValid Loss: 0.447453 \tACC train 0.953804 \tACC test 0.863354\n",
      "Epoch: 14 \tTraining Loss: 0.352311 \tValid Loss: 0.447487 \tACC train 0.964674 \tACC test 0.857143\n",
      "Epoch: 15 \tTraining Loss: 0.342958 \tValid Loss: 0.448229 \tACC train 0.970109 \tACC test 0.857143\n",
      "Epoch: 16 \tTraining Loss: 0.345093 \tValid Loss: 0.448422 \tACC train 0.964674 \tACC test 0.857143\n",
      "Epoch: 17 \tTraining Loss: 0.336561 \tValid Loss: 0.449349 \tACC train 0.972826 \tACC test 0.850932\n",
      "Epoch: 18 \tTraining Loss: 0.344352 \tValid Loss: 0.450331 \tACC train 0.964674 \tACC test 0.850932\n",
      "Epoch: 19 \tTraining Loss: 0.338250 \tValid Loss: 0.450468 \tACC train 0.970109 \tACC test 0.869565\n",
      "Epoch: 20 \tTraining Loss: 0.337059 \tValid Loss: 0.447953 \tACC train 0.972826 \tACC test 0.857143\n",
      "Epoch: 21 \tTraining Loss: 0.338249 \tValid Loss: 0.449654 \tACC train 0.975543 \tACC test 0.857143\n",
      "Epoch: 22 \tTraining Loss: 0.331776 \tValid Loss: 0.447943 \tACC train 0.978261 \tACC test 0.863354\n",
      "Epoch: 23 \tTraining Loss: 0.329512 \tValid Loss: 0.447747 \tACC train 0.980978 \tACC test 0.869565\n",
      "Epoch: 24 \tTraining Loss: 0.338790 \tValid Loss: 0.447498 \tACC train 0.970109 \tACC test 0.863354\n",
      "Epoch: 25 \tTraining Loss: 0.334620 \tValid Loss: 0.442427 \tACC train 0.975543 \tACC test 0.857143\n",
      "Epoch: 26 \tTraining Loss: 0.338432 \tValid Loss: 0.450478 \tACC train 0.967391 \tACC test 0.850932\n",
      "Epoch: 27 \tTraining Loss: 0.327917 \tValid Loss: 0.448081 \tACC train 0.983696 \tACC test 0.857143\n",
      "Epoch: 28 \tTraining Loss: 0.333647 \tValid Loss: 0.450992 \tACC train 0.975543 \tACC test 0.857143\n",
      "Epoch: 29 \tTraining Loss: 0.329157 \tValid Loss: 0.450408 \tACC train 0.980978 \tACC test 0.857143\n",
      "Epoch: 30 \tTraining Loss: 0.325336 \tValid Loss: 0.446851 \tACC train 0.986413 \tACC test 0.863354\n",
      "Epoch: 31 \tTraining Loss: 0.328761 \tValid Loss: 0.450686 \tACC train 0.980978 \tACC test 0.857143\n",
      "Epoch: 32 \tTraining Loss: 0.328947 \tValid Loss: 0.454048 \tACC train 0.983696 \tACC test 0.844720\n",
      "Epoch: 33 \tTraining Loss: 0.329051 \tValid Loss: 0.459563 \tACC train 0.978261 \tACC test 0.844720\n",
      "Epoch: 34 \tTraining Loss: 0.328785 \tValid Loss: 0.460520 \tACC train 0.980978 \tACC test 0.844720\n",
      "Epoch: 35 \tTraining Loss: 0.327475 \tValid Loss: 0.459226 \tACC train 0.978261 \tACC test 0.838509\n",
      "Epoch: 36 \tTraining Loss: 0.325019 \tValid Loss: 0.452157 \tACC train 0.986413 \tACC test 0.863354\n",
      "Epoch: 37 \tTraining Loss: 0.324187 \tValid Loss: 0.452051 \tACC train 0.983696 \tACC test 0.857143\n",
      "Epoch: 38 \tTraining Loss: 0.332422 \tValid Loss: 0.443554 \tACC train 0.975543 \tACC test 0.863354\n",
      "Epoch: 39 \tTraining Loss: 0.329520 \tValid Loss: 0.442911 \tACC train 0.978261 \tACC test 0.863354\n",
      "Epoch: 40 \tTraining Loss: 0.326693 \tValid Loss: 0.444763 \tACC train 0.983696 \tACC test 0.863354\n",
      "Epoch: 41 \tTraining Loss: 0.325263 \tValid Loss: 0.444814 \tACC train 0.983696 \tACC test 0.863354\n",
      "Epoch: 42 \tTraining Loss: 0.325586 \tValid Loss: 0.445527 \tACC train 0.983696 \tACC test 0.863354\n",
      "Epoch: 43 \tTraining Loss: 0.326303 \tValid Loss: 0.446183 \tACC train 0.980978 \tACC test 0.863354\n",
      "Epoch: 44 \tTraining Loss: 0.326395 \tValid Loss: 0.441148 \tACC train 0.980978 \tACC test 0.857143\n",
      "Epoch: 45 \tTraining Loss: 0.326385 \tValid Loss: 0.444468 \tACC train 0.980978 \tACC test 0.863354\n",
      "Epoch: 46 \tTraining Loss: 0.322108 \tValid Loss: 0.445121 \tACC train 0.986413 \tACC test 0.863354\n",
      "Epoch: 47 \tTraining Loss: 0.324551 \tValid Loss: 0.443503 \tACC train 0.983696 \tACC test 0.869565\n",
      "Epoch: 48 \tTraining Loss: 0.323575 \tValid Loss: 0.443789 \tACC train 0.983696 \tACC test 0.869565\n",
      "Epoch: 49 \tTraining Loss: 0.323674 \tValid Loss: 0.440846 \tACC train 0.983696 \tACC test 0.869565\n"
     ]
    },
    {
     "data": {
      "image/png": "[encoded data removed]",
      "text/plain": [
       "<Figure size 432x432 with 2 Axes>"
      ]
     },
     "metadata": {
      "needs_background": "light"
     },
     "output_type": "display_data"
    },
    {
     "data": {
      "image/png": "[encoded data removed]",
      "text/plain": [
       "<Figure size 360x360 with 1 Axes>"
      ]
     },
     "metadata": {
      "needs_background": "light"
     },
     "output_type": "display_data"
    },
    {
     "name": "stdout",
     "output_type": "stream",
     "text": [
      "Accuracy:  0.8695652173913043\n",
      "              precision    recall  f1-score   support\n",
      "\n",
      "         0.0     0.9130    0.8660    0.8889        97\n",
      "         1.0     0.8116    0.8750    0.8421        64\n",
      "\n",
      "    accuracy                         0.8696       161\n",
      "   macro avg     0.8623    0.8705    0.8655       161\n",
      "weighted avg     0.8727    0.8696    0.8703       161\n",
      "\n"
     ]
    }
   ],
   "source": [
    "classify(Xphonation, yArousal)"
   ]
  },
  {
   "cell_type": "code",
   "execution_count": 12,
   "metadata": {
    "scrolled": false
   },
   "outputs": [
    {
     "name": "stderr",
     "output_type": "stream",
     "text": [
      "/home/camilo/.local/lib/python3.6/site-packages/ipykernel_launcher.py:15: UserWarning: Implicit dimension choice for softmax has been deprecated. Change the call to include dim=X as an argument.\n",
      "  from ipykernel import kernelapp as app\n"
     ]
    },
    {
     "name": "stdout",
     "output_type": "stream",
     "text": [
      "Epoch: 0 \tTraining Loss: 0.561660 \tValid Loss: 0.446655 \tACC train 0.809783 \tACC test 0.919255\n",
      "Validation Accuracy increased (0.000000 --> 0.919255).  Saving model ...\n",
      "Epoch: 1 \tTraining Loss: 0.384198 \tValid Loss: 0.378334 \tACC train 0.937500 \tACC test 0.950311\n",
      "Validation Accuracy increased (0.919255 --> 0.950311).  Saving model ...\n",
      "Epoch: 2 \tTraining Loss: 0.342262 \tValid Loss: 0.366112 \tACC train 0.975543 \tACC test 0.956522\n",
      "Validation Accuracy increased (0.950311 --> 0.956522).  Saving model ...\n",
      "Epoch: 3 \tTraining Loss: 0.328196 \tValid Loss: 0.357785 \tACC train 0.980978 \tACC test 0.950311\n",
      "Epoch: 4 \tTraining Loss: 0.322309 \tValid Loss: 0.355779 \tACC train 0.986413 \tACC test 0.950311\n",
      "Epoch: 5 \tTraining Loss: 0.320085 \tValid Loss: 0.356567 \tACC train 0.989130 \tACC test 0.956522\n",
      "Validation Accuracy increased (0.956522 --> 0.956522).  Saving model ...\n",
      "Epoch: 6 \tTraining Loss: 0.315674 \tValid Loss: 0.355210 \tACC train 0.994565 \tACC test 0.950311\n",
      "Epoch: 7 \tTraining Loss: 0.314862 \tValid Loss: 0.357179 \tACC train 0.994565 \tACC test 0.950311\n",
      "Epoch: 8 \tTraining Loss: 0.311858 \tValid Loss: 0.358266 \tACC train 0.997283 \tACC test 0.950311\n",
      "Epoch: 9 \tTraining Loss: 0.311266 \tValid Loss: 0.357453 \tACC train 0.997283 \tACC test 0.950311\n",
      "Epoch: 10 \tTraining Loss: 0.310231 \tValid Loss: 0.356919 \tACC train 0.997283 \tACC test 0.950311\n",
      "Epoch: 11 \tTraining Loss: 0.308925 \tValid Loss: 0.355916 \tACC train 1.000000 \tACC test 0.950311\n",
      "Epoch: 12 \tTraining Loss: 0.308628 \tValid Loss: 0.355633 \tACC train 1.000000 \tACC test 0.950311\n",
      "Epoch: 13 \tTraining Loss: 0.308642 \tValid Loss: 0.355318 \tACC train 1.000000 \tACC test 0.950311\n",
      "Epoch: 14 \tTraining Loss: 0.308535 \tValid Loss: 0.355167 \tACC train 1.000000 \tACC test 0.950311\n",
      "Epoch: 15 \tTraining Loss: 0.308570 \tValid Loss: 0.354709 \tACC train 1.000000 \tACC test 0.950311\n",
      "Epoch: 16 \tTraining Loss: 0.308535 \tValid Loss: 0.354416 \tACC train 1.000000 \tACC test 0.950311\n",
      "Epoch: 17 \tTraining Loss: 0.308343 \tValid Loss: 0.354309 \tACC train 1.000000 \tACC test 0.950311\n",
      "Epoch: 18 \tTraining Loss: 0.308390 \tValid Loss: 0.354820 \tACC train 1.000000 \tACC test 0.950311\n",
      "Epoch: 19 \tTraining Loss: 0.308346 \tValid Loss: 0.354895 \tACC train 1.000000 \tACC test 0.950311\n",
      "Epoch: 20 \tTraining Loss: 0.308396 \tValid Loss: 0.355013 \tACC train 1.000000 \tACC test 0.950311\n",
      "Epoch: 21 \tTraining Loss: 0.308451 \tValid Loss: 0.355039 \tACC train 1.000000 \tACC test 0.950311\n",
      "Epoch: 22 \tTraining Loss: 0.308340 \tValid Loss: 0.354763 \tACC train 1.000000 \tACC test 0.950311\n",
      "Epoch: 23 \tTraining Loss: 0.308301 \tValid Loss: 0.354400 \tACC train 1.000000 \tACC test 0.956522\n",
      "Validation Accuracy increased (0.956522 --> 0.956522).  Saving model ...\n",
      "Epoch: 24 \tTraining Loss: 0.308835 \tValid Loss: 0.353052 \tACC train 1.000000 \tACC test 0.950311\n",
      "Epoch: 25 \tTraining Loss: 0.309129 \tValid Loss: 0.356765 \tACC train 1.000000 \tACC test 0.956522\n",
      "Validation Accuracy increased (0.956522 --> 0.956522).  Saving model ...\n",
      "Epoch: 26 \tTraining Loss: 0.308375 \tValid Loss: 0.358050 \tACC train 1.000000 \tACC test 0.956522\n",
      "Validation Accuracy increased (0.956522 --> 0.956522).  Saving model ...\n",
      "Epoch: 27 \tTraining Loss: 0.308308 \tValid Loss: 0.357749 \tACC train 1.000000 \tACC test 0.956522\n",
      "Validation Accuracy increased (0.956522 --> 0.956522).  Saving model ...\n",
      "Epoch: 28 \tTraining Loss: 0.308397 \tValid Loss: 0.355931 \tACC train 1.000000 \tACC test 0.956522\n",
      "Validation Accuracy increased (0.956522 --> 0.956522).  Saving model ...\n",
      "Epoch: 29 \tTraining Loss: 0.309245 \tValid Loss: 0.351132 \tACC train 0.997283 \tACC test 0.956522\n",
      "Validation Accuracy increased (0.956522 --> 0.956522).  Saving model ...\n",
      "Epoch: 30 \tTraining Loss: 0.308820 \tValid Loss: 0.351641 \tACC train 1.000000 \tACC test 0.962733\n",
      "Validation Accuracy increased (0.956522 --> 0.962733).  Saving model ...\n",
      "Epoch: 31 \tTraining Loss: 0.308532 \tValid Loss: 0.352056 \tACC train 1.000000 \tACC test 0.962733\n",
      "Validation Accuracy increased (0.962733 --> 0.962733).  Saving model ...\n",
      "Epoch: 32 \tTraining Loss: 0.308281 \tValid Loss: 0.352667 \tACC train 1.000000 \tACC test 0.956522\n",
      "Epoch: 33 \tTraining Loss: 0.308314 \tValid Loss: 0.352676 \tACC train 1.000000 \tACC test 0.956522\n",
      "Epoch: 34 \tTraining Loss: 0.308273 \tValid Loss: 0.352865 \tACC train 1.000000 \tACC test 0.956522\n",
      "Epoch: 35 \tTraining Loss: 0.308283 \tValid Loss: 0.353292 \tACC train 1.000000 \tACC test 0.962733\n",
      "Validation Accuracy increased (0.962733 --> 0.962733).  Saving model ...\n",
      "Epoch: 36 \tTraining Loss: 0.308267 \tValid Loss: 0.353512 \tACC train 1.000000 \tACC test 0.962733\n",
      "Validation Accuracy increased (0.962733 --> 0.962733).  Saving model ...\n",
      "Epoch: 37 \tTraining Loss: 0.308281 \tValid Loss: 0.353162 \tACC train 1.000000 \tACC test 0.962733\n",
      "Validation Accuracy increased (0.962733 --> 0.962733).  Saving model ...\n",
      "Epoch: 38 \tTraining Loss: 0.308272 \tValid Loss: 0.353097 \tACC train 1.000000 \tACC test 0.962733\n",
      "Validation Accuracy increased (0.962733 --> 0.962733).  Saving model ...\n",
      "Epoch: 39 \tTraining Loss: 0.308270 \tValid Loss: 0.353216 \tACC train 1.000000 \tACC test 0.962733\n",
      "Validation Accuracy increased (0.962733 --> 0.962733).  Saving model ...\n",
      "Epoch: 40 \tTraining Loss: 0.308264 \tValid Loss: 0.353260 \tACC train 1.000000 \tACC test 0.962733\n",
      "Validation Accuracy increased (0.962733 --> 0.962733).  Saving model ...\n",
      "Epoch: 41 \tTraining Loss: 0.308345 \tValid Loss: 0.352531 \tACC train 1.000000 \tACC test 0.962733\n",
      "Validation Accuracy increased (0.962733 --> 0.962733).  Saving model ...\n",
      "Epoch: 42 \tTraining Loss: 0.308393 \tValid Loss: 0.352799 \tACC train 1.000000 \tACC test 0.962733\n",
      "Validation Accuracy increased (0.962733 --> 0.962733).  Saving model ...\n",
      "Epoch: 43 \tTraining Loss: 0.308253 \tValid Loss: 0.352813 \tACC train 1.000000 \tACC test 0.962733\n",
      "Validation Accuracy increased (0.962733 --> 0.962733).  Saving model ...\n",
      "Epoch: 44 \tTraining Loss: 0.308248 \tValid Loss: 0.352873 \tACC train 1.000000 \tACC test 0.956522\n",
      "Epoch: 45 \tTraining Loss: 0.308451 \tValid Loss: 0.353493 \tACC train 1.000000 \tACC test 0.956522\n",
      "Epoch: 46 \tTraining Loss: 0.308309 \tValid Loss: 0.354324 \tACC train 1.000000 \tACC test 0.950311\n",
      "Epoch: 47 \tTraining Loss: 0.308253 \tValid Loss: 0.355433 \tACC train 1.000000 \tACC test 0.950311\n",
      "Epoch: 48 \tTraining Loss: 0.308265 \tValid Loss: 0.355853 \tACC train 1.000000 \tACC test 0.950311\n",
      "Epoch: 49 \tTraining Loss: 0.308255 \tValid Loss: 0.356102 \tACC train 1.000000 \tACC test 0.950311\n"
     ]
    },
    {
     "data": {
      "image/png": "[encoded data removed]",
      "text/plain": [
       "<Figure size 432x432 with 2 Axes>"
      ]
     },
     "metadata": {
      "needs_background": "light"
     },
     "output_type": "display_data"
    },
    {
     "data": {
      "image/png": "[encoded data removed]",
      "text/plain": [
       "<Figure size 360x360 with 1 Axes>"
      ]
     },
     "metadata": {
      "needs_background": "light"
     },
     "output_type": "display_data"
    },
    {
     "name": "stdout",
     "output_type": "stream",
     "text": [
      "Accuracy:  0.9503105590062112\n",
      "              precision    recall  f1-score   support\n",
      "\n",
      "         0.0     0.9785    0.9381    0.9579        97\n",
      "         1.0     0.9118    0.9688    0.9394        64\n",
      "\n",
      "    accuracy                         0.9503       161\n",
      "   macro avg     0.9451    0.9534    0.9486       161\n",
      "weighted avg     0.9520    0.9503    0.9505       161\n",
      "\n"
     ]
    }
   ],
   "source": [
    "classify(Xarticulation, yArousal)"
   ]
  },
  {
   "cell_type": "code",
   "execution_count": 13,
   "metadata": {
    "scrolled": false
   },
   "outputs": [
    {
     "name": "stderr",
     "output_type": "stream",
     "text": [
      "/home/camilo/.local/lib/python3.6/site-packages/ipykernel_launcher.py:15: UserWarning: Implicit dimension choice for softmax has been deprecated. Change the call to include dim=X as an argument.\n",
      "  from ipykernel import kernelapp as app\n"
     ]
    },
    {
     "name": "stdout",
     "output_type": "stream",
     "text": [
      "Epoch: 0 \tTraining Loss: 0.616675 \tValid Loss: 0.550142 \tACC train 0.755435 \tACC test 0.826087\n",
      "Validation Accuracy increased (0.000000 --> 0.826087).  Saving model ...\n",
      "Epoch: 1 \tTraining Loss: 0.477215 \tValid Loss: 0.472122 \tACC train 0.828804 \tACC test 0.838509\n",
      "Validation Accuracy increased (0.826087 --> 0.838509).  Saving model ...\n",
      "Epoch: 2 \tTraining Loss: 0.416971 \tValid Loss: 0.448236 \tACC train 0.896739 \tACC test 0.869565\n",
      "Validation Accuracy increased (0.838509 --> 0.869565).  Saving model ...\n",
      "Epoch: 3 \tTraining Loss: 0.383487 \tValid Loss: 0.434629 \tACC train 0.940217 \tACC test 0.881988\n",
      "Validation Accuracy increased (0.869565 --> 0.881988).  Saving model ...\n",
      "Epoch: 4 \tTraining Loss: 0.364876 \tValid Loss: 0.431065 \tACC train 0.945652 \tACC test 0.875776\n",
      "Epoch: 5 \tTraining Loss: 0.355004 \tValid Loss: 0.427323 \tACC train 0.959239 \tACC test 0.888199\n",
      "Validation Accuracy increased (0.881988 --> 0.888199).  Saving model ...\n",
      "Epoch: 6 \tTraining Loss: 0.341942 \tValid Loss: 0.425811 \tACC train 0.975543 \tACC test 0.888199\n",
      "Validation Accuracy increased (0.888199 --> 0.888199).  Saving model ...\n",
      "Epoch: 7 \tTraining Loss: 0.334894 \tValid Loss: 0.425144 \tACC train 0.980978 \tACC test 0.888199\n",
      "Validation Accuracy increased (0.888199 --> 0.888199).  Saving model ...\n",
      "Epoch: 8 \tTraining Loss: 0.330931 \tValid Loss: 0.419776 \tACC train 0.983696 \tACC test 0.900621\n",
      "Validation Accuracy increased (0.888199 --> 0.900621).  Saving model ...\n",
      "Epoch: 9 \tTraining Loss: 0.333708 \tValid Loss: 0.420634 \tACC train 0.978261 \tACC test 0.888199\n",
      "Epoch: 10 \tTraining Loss: 0.330488 \tValid Loss: 0.420374 \tACC train 0.978261 \tACC test 0.888199\n",
      "Epoch: 11 \tTraining Loss: 0.326216 \tValid Loss: 0.425202 \tACC train 0.983696 \tACC test 0.881988\n",
      "Epoch: 12 \tTraining Loss: 0.327189 \tValid Loss: 0.420264 \tACC train 0.983696 \tACC test 0.900621\n",
      "Validation Accuracy increased (0.900621 --> 0.900621).  Saving model ...\n",
      "Epoch: 13 \tTraining Loss: 0.325216 \tValid Loss: 0.421333 \tACC train 0.983696 \tACC test 0.900621\n",
      "Validation Accuracy increased (0.900621 --> 0.900621).  Saving model ...\n",
      "Epoch: 14 \tTraining Loss: 0.326413 \tValid Loss: 0.419648 \tACC train 0.983696 \tACC test 0.894410\n",
      "Epoch: 15 \tTraining Loss: 0.322671 \tValid Loss: 0.418093 \tACC train 0.989130 \tACC test 0.894410\n",
      "Epoch: 16 \tTraining Loss: 0.323159 \tValid Loss: 0.419681 \tACC train 0.986413 \tACC test 0.894410\n",
      "Epoch: 17 \tTraining Loss: 0.323630 \tValid Loss: 0.425143 \tACC train 0.986413 \tACC test 0.881988\n",
      "Epoch: 18 \tTraining Loss: 0.321815 \tValid Loss: 0.421852 \tACC train 0.989130 \tACC test 0.881988\n",
      "Epoch: 19 \tTraining Loss: 0.320549 \tValid Loss: 0.420253 \tACC train 0.989130 \tACC test 0.881988\n",
      "Epoch: 20 \tTraining Loss: 0.320582 \tValid Loss: 0.415031 \tACC train 0.989130 \tACC test 0.894410\n",
      "Epoch: 21 \tTraining Loss: 0.321168 \tValid Loss: 0.417684 \tACC train 0.986413 \tACC test 0.881988\n",
      "Epoch: 22 \tTraining Loss: 0.318373 \tValid Loss: 0.417204 \tACC train 0.991848 \tACC test 0.888199\n",
      "Epoch: 23 \tTraining Loss: 0.317590 \tValid Loss: 0.414272 \tACC train 0.991848 \tACC test 0.894410\n",
      "Epoch: 24 \tTraining Loss: 0.317610 \tValid Loss: 0.412569 \tACC train 0.991848 \tACC test 0.906832\n",
      "Validation Accuracy increased (0.900621 --> 0.906832).  Saving model ...\n",
      "Epoch: 25 \tTraining Loss: 0.317445 \tValid Loss: 0.411296 \tACC train 0.991848 \tACC test 0.913043\n",
      "Validation Accuracy increased (0.906832 --> 0.913043).  Saving model ...\n",
      "Epoch: 26 \tTraining Loss: 0.317822 \tValid Loss: 0.411342 \tACC train 0.991848 \tACC test 0.913043\n",
      "Validation Accuracy increased (0.913043 --> 0.913043).  Saving model ...\n",
      "Epoch: 27 \tTraining Loss: 0.317862 \tValid Loss: 0.410273 \tACC train 0.991848 \tACC test 0.906832\n",
      "Epoch: 28 \tTraining Loss: 0.317642 \tValid Loss: 0.413157 \tACC train 0.991848 \tACC test 0.906832\n",
      "Epoch: 29 \tTraining Loss: 0.317600 \tValid Loss: 0.414166 \tACC train 0.991848 \tACC test 0.900621\n",
      "Epoch: 30 \tTraining Loss: 0.318080 \tValid Loss: 0.409494 \tACC train 0.991848 \tACC test 0.913043\n",
      "Validation Accuracy increased (0.913043 --> 0.913043).  Saving model ...\n",
      "Epoch: 31 \tTraining Loss: 0.317593 \tValid Loss: 0.410412 \tACC train 0.991848 \tACC test 0.906832\n",
      "Epoch: 32 \tTraining Loss: 0.318138 \tValid Loss: 0.412882 \tACC train 0.991848 \tACC test 0.900621\n",
      "Epoch: 33 \tTraining Loss: 0.317256 \tValid Loss: 0.410518 \tACC train 0.991848 \tACC test 0.900621\n",
      "Epoch: 34 \tTraining Loss: 0.317260 \tValid Loss: 0.410800 \tACC train 0.991848 \tACC test 0.906832\n",
      "Epoch: 35 \tTraining Loss: 0.319624 \tValid Loss: 0.411816 \tACC train 0.989130 \tACC test 0.894410\n",
      "Epoch: 36 \tTraining Loss: 0.317356 \tValid Loss: 0.413666 \tACC train 0.991848 \tACC test 0.894410\n",
      "Epoch: 37 \tTraining Loss: 0.317513 \tValid Loss: 0.419469 \tACC train 0.991848 \tACC test 0.888199\n",
      "Epoch: 38 \tTraining Loss: 0.317391 \tValid Loss: 0.418796 \tACC train 0.991848 \tACC test 0.894410\n",
      "Epoch: 39 \tTraining Loss: 0.317106 \tValid Loss: 0.419740 \tACC train 0.991848 \tACC test 0.894410\n",
      "Epoch: 40 \tTraining Loss: 0.317432 \tValid Loss: 0.420588 \tACC train 0.991848 \tACC test 0.888199\n",
      "Epoch: 41 \tTraining Loss: 0.317307 \tValid Loss: 0.420366 \tACC train 0.991848 \tACC test 0.894410\n",
      "Epoch: 42 \tTraining Loss: 0.317404 \tValid Loss: 0.421903 \tACC train 0.991848 \tACC test 0.888199\n",
      "Epoch: 43 \tTraining Loss: 0.316983 \tValid Loss: 0.424370 \tACC train 0.994565 \tACC test 0.888199\n",
      "Epoch: 44 \tTraining Loss: 0.315798 \tValid Loss: 0.425795 \tACC train 0.994565 \tACC test 0.881988\n",
      "Epoch: 45 \tTraining Loss: 0.315219 \tValid Loss: 0.424868 \tACC train 0.994565 \tACC test 0.888199\n",
      "Epoch: 46 \tTraining Loss: 0.315101 \tValid Loss: 0.423853 \tACC train 0.994565 \tACC test 0.894410\n",
      "Epoch: 47 \tTraining Loss: 0.314851 \tValid Loss: 0.422651 \tACC train 0.994565 \tACC test 0.894410\n",
      "Epoch: 48 \tTraining Loss: 0.314919 \tValid Loss: 0.423633 \tACC train 0.994565 \tACC test 0.894410\n",
      "Epoch: 49 \tTraining Loss: 0.316222 \tValid Loss: 0.422354 \tACC train 0.994565 \tACC test 0.888199\n"
     ]
    },
    {
     "data": {
      "image/png": "[encoded data removed]",
      "text/plain": [
       "<Figure size 432x432 with 2 Axes>"
      ]
     },
     "metadata": {
      "needs_background": "light"
     },
     "output_type": "display_data"
    },
    {
     "data": {
      "image/png": "[encoded data removed]",
      "text/plain": [
       "<Figure size 360x360 with 1 Axes>"
      ]
     },
     "metadata": {
      "needs_background": "light"
     },
     "output_type": "display_data"
    },
    {
     "name": "stdout",
     "output_type": "stream",
     "text": [
      "Accuracy:  0.8881987577639752\n",
      "              precision    recall  f1-score   support\n",
      "\n",
      "         0.0     0.9072    0.9072    0.9072        97\n",
      "         1.0     0.8594    0.8594    0.8594        64\n",
      "\n",
      "    accuracy                         0.8882       161\n",
      "   macro avg     0.8833    0.8833    0.8833       161\n",
      "weighted avg     0.8882    0.8882    0.8882       161\n",
      "\n"
     ]
    }
   ],
   "source": [
    "classify(Xprosody, yArousal)"
   ]
  },
  {
   "cell_type": "markdown",
   "metadata": {},
   "source": [
    "## classify positive vs. negative valence with the different feature sets"
   ]
  },
  {
   "cell_type": "code",
   "execution_count": 14,
   "metadata": {
    "scrolled": false
   },
   "outputs": [
    {
     "name": "stderr",
     "output_type": "stream",
     "text": [
      "/home/camilo/.local/lib/python3.6/site-packages/ipykernel_launcher.py:15: UserWarning: Implicit dimension choice for softmax has been deprecated. Change the call to include dim=X as an argument.\n",
      "  from ipykernel import kernelapp as app\n"
     ]
    },
    {
     "name": "stdout",
     "output_type": "stream",
     "text": [
      "Epoch: 0 \tTraining Loss: 0.681168 \tValid Loss: 0.668663 \tACC train 0.717391 \tACC test 0.677019\n",
      "Validation Accuracy increased (0.000000 --> 0.677019).  Saving model ...\n",
      "Epoch: 1 \tTraining Loss: 0.672975 \tValid Loss: 0.672795 \tACC train 0.706522 \tACC test 0.658385\n",
      "Epoch: 2 \tTraining Loss: 0.666014 \tValid Loss: 0.670217 \tACC train 0.703804 \tACC test 0.639752\n",
      "Epoch: 3 \tTraining Loss: 0.655968 \tValid Loss: 0.668090 \tACC train 0.709239 \tACC test 0.658385\n",
      "Epoch: 4 \tTraining Loss: 0.650593 \tValid Loss: 0.665711 \tACC train 0.720109 \tACC test 0.689441\n",
      "Validation Accuracy increased (0.677019 --> 0.689441).  Saving model ...\n",
      "Epoch: 5 \tTraining Loss: 0.633793 \tValid Loss: 0.660105 \tACC train 0.717391 \tACC test 0.683230\n",
      "Epoch: 6 \tTraining Loss: 0.629537 \tValid Loss: 0.661399 \tACC train 0.701087 \tACC test 0.670807\n",
      "Epoch: 7 \tTraining Loss: 0.630014 \tValid Loss: 0.650817 \tACC train 0.687500 \tACC test 0.664596\n",
      "Epoch: 8 \tTraining Loss: 0.594066 \tValid Loss: 0.649553 \tACC train 0.739130 \tACC test 0.683230\n",
      "Epoch: 9 \tTraining Loss: 0.599049 \tValid Loss: 0.648980 \tACC train 0.711957 \tACC test 0.658385\n",
      "Epoch: 10 \tTraining Loss: 0.593936 \tValid Loss: 0.646325 \tACC train 0.706522 \tACC test 0.677019\n",
      "Epoch: 11 \tTraining Loss: 0.578954 \tValid Loss: 0.637197 \tACC train 0.736413 \tACC test 0.683230\n",
      "Epoch: 12 \tTraining Loss: 0.572600 \tValid Loss: 0.639186 \tACC train 0.750000 \tACC test 0.683230\n",
      "Epoch: 13 \tTraining Loss: 0.571082 \tValid Loss: 0.645580 \tACC train 0.744565 \tACC test 0.645963\n",
      "Epoch: 14 \tTraining Loss: 0.563299 \tValid Loss: 0.632891 \tACC train 0.752717 \tACC test 0.670807\n",
      "Epoch: 15 \tTraining Loss: 0.545195 \tValid Loss: 0.630497 \tACC train 0.760870 \tACC test 0.683230\n",
      "Epoch: 16 \tTraining Loss: 0.528298 \tValid Loss: 0.640017 \tACC train 0.790761 \tACC test 0.652174\n",
      "Epoch: 17 \tTraining Loss: 0.546838 \tValid Loss: 0.650469 \tACC train 0.782609 \tACC test 0.652174\n",
      "Epoch: 18 \tTraining Loss: 0.515177 \tValid Loss: 0.627142 \tACC train 0.807065 \tACC test 0.683230\n",
      "Epoch: 19 \tTraining Loss: 0.521926 \tValid Loss: 0.663643 \tACC train 0.785326 \tACC test 0.621118\n",
      "Epoch: 20 \tTraining Loss: 0.544925 \tValid Loss: 0.637464 \tACC train 0.747283 \tACC test 0.639752\n",
      "Epoch: 21 \tTraining Loss: 0.532547 \tValid Loss: 0.631501 \tACC train 0.796196 \tACC test 0.658385\n",
      "Epoch: 22 \tTraining Loss: 0.526745 \tValid Loss: 0.637428 \tACC train 0.804348 \tACC test 0.639752\n",
      "Epoch: 23 \tTraining Loss: 0.515780 \tValid Loss: 0.650180 \tACC train 0.820652 \tACC test 0.639752\n",
      "Epoch: 24 \tTraining Loss: 0.495595 \tValid Loss: 0.628072 \tACC train 0.831522 \tACC test 0.683230\n",
      "Epoch: 25 \tTraining Loss: 0.501715 \tValid Loss: 0.644576 \tACC train 0.798913 \tACC test 0.639752\n",
      "Epoch: 26 \tTraining Loss: 0.479382 \tValid Loss: 0.629813 \tACC train 0.817935 \tACC test 0.658385\n",
      "Epoch: 27 \tTraining Loss: 0.476368 \tValid Loss: 0.631077 \tACC train 0.850543 \tACC test 0.652174\n",
      "Epoch: 28 \tTraining Loss: 0.487152 \tValid Loss: 0.635731 \tACC train 0.815217 \tACC test 0.658385\n",
      "Epoch: 29 \tTraining Loss: 0.482327 \tValid Loss: 0.628001 \tACC train 0.826087 \tACC test 0.670807\n",
      "Epoch: 30 \tTraining Loss: 0.489948 \tValid Loss: 0.635119 \tACC train 0.817935 \tACC test 0.645963\n",
      "Epoch: 31 \tTraining Loss: 0.480606 \tValid Loss: 0.652106 \tACC train 0.826087 \tACC test 0.627329\n",
      "Epoch: 32 \tTraining Loss: 0.480034 \tValid Loss: 0.625197 \tACC train 0.834239 \tACC test 0.658385\n",
      "Epoch: 33 \tTraining Loss: 0.476599 \tValid Loss: 0.645830 \tACC train 0.828804 \tACC test 0.645963\n",
      "Epoch: 34 \tTraining Loss: 0.490647 \tValid Loss: 0.645176 \tACC train 0.815217 \tACC test 0.658385\n",
      "Epoch: 35 \tTraining Loss: 0.478010 \tValid Loss: 0.618703 \tACC train 0.836957 \tACC test 0.683230\n",
      "Epoch: 36 \tTraining Loss: 0.455543 \tValid Loss: 0.639627 \tACC train 0.880435 \tACC test 0.658385\n",
      "Epoch: 37 \tTraining Loss: 0.464351 \tValid Loss: 0.623866 \tACC train 0.853261 \tACC test 0.670807\n",
      "Epoch: 38 \tTraining Loss: 0.474882 \tValid Loss: 0.637251 \tACC train 0.850543 \tACC test 0.652174\n",
      "Epoch: 39 \tTraining Loss: 0.473978 \tValid Loss: 0.642980 \tACC train 0.836957 \tACC test 0.652174\n",
      "Epoch: 40 \tTraining Loss: 0.479617 \tValid Loss: 0.617163 \tACC train 0.845109 \tACC test 0.677019\n",
      "Epoch: 41 \tTraining Loss: 0.453454 \tValid Loss: 0.618936 \tACC train 0.866848 \tACC test 0.683230\n",
      "Epoch: 42 \tTraining Loss: 0.468129 \tValid Loss: 0.635900 \tACC train 0.850543 \tACC test 0.652174\n",
      "Epoch: 43 \tTraining Loss: 0.466730 \tValid Loss: 0.628653 \tACC train 0.855978 \tACC test 0.683230\n",
      "Epoch: 44 \tTraining Loss: 0.452931 \tValid Loss: 0.633924 \tACC train 0.869565 \tACC test 0.664596\n",
      "Epoch: 45 \tTraining Loss: 0.454264 \tValid Loss: 0.635314 \tACC train 0.864130 \tACC test 0.639752\n",
      "Epoch: 46 \tTraining Loss: 0.459724 \tValid Loss: 0.634094 \tACC train 0.858696 \tACC test 0.652174\n",
      "Epoch: 47 \tTraining Loss: 0.460017 \tValid Loss: 0.631010 \tACC train 0.858696 \tACC test 0.652174\n",
      "Epoch: 48 \tTraining Loss: 0.445057 \tValid Loss: 0.625425 \tACC train 0.883152 \tACC test 0.664596\n",
      "Epoch: 49 \tTraining Loss: 0.441295 \tValid Loss: 0.637008 \tACC train 0.875000 \tACC test 0.652174\n"
     ]
    },
    {
     "data": {
      "image/png": "[encoded data removed]",
      "text/plain": [
       "<Figure size 432x432 with 2 Axes>"
      ]
     },
     "metadata": {
      "needs_background": "light"
     },
     "output_type": "display_data"
    },
    {
     "data": {
      "image/png": "[encoded data removed]",
      "text/plain": [
       "<Figure size 360x360 with 1 Axes>"
      ]
     },
     "metadata": {
      "needs_background": "light"
     },
     "output_type": "display_data"
    },
    {
     "name": "stdout",
     "output_type": "stream",
     "text": [
      "Accuracy:  0.6521739130434783\n",
      "              precision    recall  f1-score   support\n",
      "\n",
      "         0.0     0.7642    0.7232    0.7431       112\n",
      "         1.0     0.4364    0.4898    0.4615        49\n",
      "\n",
      "    accuracy                         0.6522       161\n",
      "   macro avg     0.6003    0.6065    0.6023       161\n",
      "weighted avg     0.6644    0.6522    0.6574       161\n",
      "\n"
     ]
    }
   ],
   "source": [
    "classify(Xphonation, yValence)"
   ]
  },
  {
   "cell_type": "code",
   "execution_count": 16,
   "metadata": {
    "scrolled": false
   },
   "outputs": [
    {
     "name": "stderr",
     "output_type": "stream",
     "text": [
      "/home/camilo/.local/lib/python3.6/site-packages/ipykernel_launcher.py:15: UserWarning: Implicit dimension choice for softmax has been deprecated. Change the call to include dim=X as an argument.\n",
      "  from ipykernel import kernelapp as app\n"
     ]
    },
    {
     "name": "stdout",
     "output_type": "stream",
     "text": [
      "Epoch: 0 \tTraining Loss: 0.659876 \tValid Loss: 0.637997 \tACC train 0.578804 \tACC test 0.689441\n",
      "Validation Accuracy increased (0.000000 --> 0.689441).  Saving model ...\n",
      "Epoch: 1 \tTraining Loss: 0.555421 \tValid Loss: 0.576585 \tACC train 0.793478 \tACC test 0.714286\n",
      "Validation Accuracy increased (0.689441 --> 0.714286).  Saving model ...\n",
      "Epoch: 2 \tTraining Loss: 0.453222 \tValid Loss: 0.550290 \tACC train 0.913043 \tACC test 0.776398\n",
      "Validation Accuracy increased (0.714286 --> 0.776398).  Saving model ...\n",
      "Epoch: 3 \tTraining Loss: 0.385608 \tValid Loss: 0.543956 \tACC train 0.953804 \tACC test 0.770186\n",
      "Epoch: 4 \tTraining Loss: 0.353239 \tValid Loss: 0.534874 \tACC train 0.970109 \tACC test 0.763975\n",
      "Epoch: 5 \tTraining Loss: 0.326766 \tValid Loss: 0.536180 \tACC train 0.997283 \tACC test 0.782609\n",
      "Validation Accuracy increased (0.776398 --> 0.782609).  Saving model ...\n",
      "Epoch: 6 \tTraining Loss: 0.315822 \tValid Loss: 0.541353 \tACC train 0.997283 \tACC test 0.763975\n",
      "Epoch: 7 \tTraining Loss: 0.316156 \tValid Loss: 0.539186 \tACC train 0.997283 \tACC test 0.763975\n",
      "Epoch: 8 \tTraining Loss: 0.315368 \tValid Loss: 0.540303 \tACC train 0.994565 \tACC test 0.776398\n",
      "Epoch: 9 \tTraining Loss: 0.312276 \tValid Loss: 0.539083 \tACC train 1.000000 \tACC test 0.776398\n",
      "Epoch: 10 \tTraining Loss: 0.310557 \tValid Loss: 0.556208 \tACC train 1.000000 \tACC test 0.739130\n",
      "Epoch: 11 \tTraining Loss: 0.309878 \tValid Loss: 0.547801 \tACC train 1.000000 \tACC test 0.763975\n",
      "Epoch: 12 \tTraining Loss: 0.309515 \tValid Loss: 0.539030 \tACC train 1.000000 \tACC test 0.770186\n",
      "Epoch: 13 \tTraining Loss: 0.310543 \tValid Loss: 0.538920 \tACC train 0.997283 \tACC test 0.757764\n",
      "Epoch: 14 \tTraining Loss: 0.312894 \tValid Loss: 0.531994 \tACC train 0.997283 \tACC test 0.782609\n",
      "Validation Accuracy increased (0.782609 --> 0.782609).  Saving model ...\n",
      "Epoch: 15 \tTraining Loss: 0.310472 \tValid Loss: 0.549980 \tACC train 1.000000 \tACC test 0.757764\n",
      "Epoch: 16 \tTraining Loss: 0.311248 \tValid Loss: 0.537100 \tACC train 1.000000 \tACC test 0.770186\n",
      "Epoch: 17 \tTraining Loss: 0.309988 \tValid Loss: 0.542315 \tACC train 1.000000 \tACC test 0.770186\n",
      "Epoch: 18 \tTraining Loss: 0.309110 \tValid Loss: 0.553019 \tACC train 1.000000 \tACC test 0.745342\n",
      "Epoch: 19 \tTraining Loss: 0.308891 \tValid Loss: 0.547416 \tACC train 1.000000 \tACC test 0.763975\n",
      "Epoch: 20 \tTraining Loss: 0.308639 \tValid Loss: 0.541149 \tACC train 1.000000 \tACC test 0.763975\n",
      "Epoch: 21 \tTraining Loss: 0.308518 \tValid Loss: 0.540662 \tACC train 1.000000 \tACC test 0.763975\n",
      "Epoch: 22 \tTraining Loss: 0.309052 \tValid Loss: 0.537607 \tACC train 1.000000 \tACC test 0.770186\n",
      "Epoch: 23 \tTraining Loss: 0.309060 \tValid Loss: 0.544957 \tACC train 1.000000 \tACC test 0.757764\n",
      "Epoch: 24 \tTraining Loss: 0.309807 \tValid Loss: 0.562573 \tACC train 1.000000 \tACC test 0.751553\n",
      "Epoch: 25 \tTraining Loss: 0.308910 \tValid Loss: 0.558179 \tACC train 1.000000 \tACC test 0.745342\n",
      "Epoch: 26 \tTraining Loss: 0.308405 \tValid Loss: 0.556517 \tACC train 1.000000 \tACC test 0.751553\n",
      "Epoch: 27 \tTraining Loss: 0.308418 \tValid Loss: 0.556724 \tACC train 1.000000 \tACC test 0.751553\n",
      "Epoch: 28 \tTraining Loss: 0.308384 \tValid Loss: 0.556523 \tACC train 1.000000 \tACC test 0.751553\n",
      "Epoch: 29 \tTraining Loss: 0.308826 \tValid Loss: 0.548811 \tACC train 1.000000 \tACC test 0.757764\n",
      "Epoch: 30 \tTraining Loss: 0.308527 \tValid Loss: 0.549146 \tACC train 1.000000 \tACC test 0.763975\n",
      "Epoch: 31 \tTraining Loss: 0.309565 \tValid Loss: 0.548557 \tACC train 1.000000 \tACC test 0.757764\n",
      "Epoch: 32 \tTraining Loss: 0.308922 \tValid Loss: 0.553109 \tACC train 1.000000 \tACC test 0.763975\n",
      "Epoch: 33 \tTraining Loss: 0.310719 \tValid Loss: 0.537247 \tACC train 0.997283 \tACC test 0.770186\n",
      "Epoch: 34 \tTraining Loss: 0.308649 \tValid Loss: 0.541046 \tACC train 1.000000 \tACC test 0.763975\n",
      "Epoch: 35 \tTraining Loss: 0.308509 \tValid Loss: 0.541856 \tACC train 1.000000 \tACC test 0.763975\n",
      "Epoch: 36 \tTraining Loss: 0.308403 \tValid Loss: 0.544979 \tACC train 1.000000 \tACC test 0.757764\n",
      "Epoch: 37 \tTraining Loss: 0.308684 \tValid Loss: 0.535881 \tACC train 1.000000 \tACC test 0.757764\n",
      "Epoch: 38 \tTraining Loss: 0.308595 \tValid Loss: 0.527850 \tACC train 1.000000 \tACC test 0.782609\n",
      "Validation Accuracy increased (0.782609 --> 0.782609).  Saving model ...\n",
      "Epoch: 39 \tTraining Loss: 0.308404 \tValid Loss: 0.528986 \tACC train 1.000000 \tACC test 0.782609\n",
      "Validation Accuracy increased (0.782609 --> 0.782609).  Saving model ...\n",
      "Epoch: 40 \tTraining Loss: 0.308353 \tValid Loss: 0.530484 \tACC train 1.000000 \tACC test 0.782609\n",
      "Validation Accuracy increased (0.782609 --> 0.782609).  Saving model ...\n",
      "Epoch: 41 \tTraining Loss: 0.308501 \tValid Loss: 0.530947 \tACC train 1.000000 \tACC test 0.770186\n",
      "Epoch: 42 \tTraining Loss: 0.308300 \tValid Loss: 0.532207 \tACC train 1.000000 \tACC test 0.770186\n",
      "Epoch: 43 \tTraining Loss: 0.308281 \tValid Loss: 0.533012 \tACC train 1.000000 \tACC test 0.763975\n",
      "Epoch: 44 \tTraining Loss: 0.308345 \tValid Loss: 0.533711 \tACC train 1.000000 \tACC test 0.763975\n",
      "Epoch: 45 \tTraining Loss: 0.308406 \tValid Loss: 0.524510 \tACC train 1.000000 \tACC test 0.788820\n",
      "Validation Accuracy increased (0.782609 --> 0.788820).  Saving model ...\n",
      "Epoch: 46 \tTraining Loss: 0.308287 \tValid Loss: 0.524089 \tACC train 1.000000 \tACC test 0.788820\n",
      "Validation Accuracy increased (0.788820 --> 0.788820).  Saving model ...\n",
      "Epoch: 47 \tTraining Loss: 0.308282 \tValid Loss: 0.522443 \tACC train 1.000000 \tACC test 0.788820\n",
      "Validation Accuracy increased (0.788820 --> 0.788820).  Saving model ...\n",
      "Epoch: 48 \tTraining Loss: 0.308273 \tValid Loss: 0.522311 \tACC train 1.000000 \tACC test 0.795031\n",
      "Validation Accuracy increased (0.788820 --> 0.795031).  Saving model ...\n",
      "Epoch: 49 \tTraining Loss: 0.308330 \tValid Loss: 0.522725 \tACC train 1.000000 \tACC test 0.795031\n",
      "Validation Accuracy increased (0.795031 --> 0.795031).  Saving model ...\n"
     ]
    },
    {
     "data": {
      "image/png": "[encoded data removed]",
      "text/plain": [
       "<Figure size 432x432 with 2 Axes>"
      ]
     },
     "metadata": {
      "needs_background": "light"
     },
     "output_type": "display_data"
    },
    {
     "data": {
      "image/png": "[encoded data removed]",
      "text/plain": [
       "<Figure size 360x360 with 1 Axes>"
      ]
     },
     "metadata": {
      "needs_background": "light"
     },
     "output_type": "display_data"
    },
    {
     "name": "stdout",
     "output_type": "stream",
     "text": [
      "Accuracy:  0.7950310559006211\n",
      "              precision    recall  f1-score   support\n",
      "\n",
      "         0.0     0.8496    0.8571    0.8533       112\n",
      "         1.0     0.6667    0.6531    0.6598        49\n",
      "\n",
      "    accuracy                         0.7950       161\n",
      "   macro avg     0.7581    0.7551    0.7566       161\n",
      "weighted avg     0.7939    0.7950    0.7944       161\n",
      "\n"
     ]
    }
   ],
   "source": [
    "classify(Xarticulation, yValence)"
   ]
  },
  {
   "cell_type": "code",
   "execution_count": 17,
   "metadata": {
    "scrolled": false
   },
   "outputs": [
    {
     "name": "stderr",
     "output_type": "stream",
     "text": [
      "/home/camilo/.local/lib/python3.6/site-packages/ipykernel_launcher.py:15: UserWarning: Implicit dimension choice for softmax has been deprecated. Change the call to include dim=X as an argument.\n",
      "  from ipykernel import kernelapp as app\n"
     ]
    },
    {
     "name": "stdout",
     "output_type": "stream",
     "text": [
      "Epoch: 0 \tTraining Loss: 0.672192 \tValid Loss: 0.649377 \tACC train 0.486413 \tACC test 0.664596\n",
      "Validation Accuracy increased (0.000000 --> 0.664596).  Saving model ...\n",
      "Epoch: 1 \tTraining Loss: 0.631459 \tValid Loss: 0.616110 \tACC train 0.684783 \tACC test 0.683230\n",
      "Validation Accuracy increased (0.664596 --> 0.683230).  Saving model ...\n",
      "Epoch: 2 \tTraining Loss: 0.597454 \tValid Loss: 0.604785 \tACC train 0.706522 \tACC test 0.695652\n",
      "Validation Accuracy increased (0.683230 --> 0.695652).  Saving model ...\n",
      "Epoch: 3 \tTraining Loss: 0.562255 \tValid Loss: 0.586377 \tACC train 0.730978 \tACC test 0.701863\n",
      "Validation Accuracy increased (0.695652 --> 0.701863).  Saving model ...\n",
      "Epoch: 4 \tTraining Loss: 0.527864 \tValid Loss: 0.578370 \tACC train 0.798913 \tACC test 0.683230\n",
      "Epoch: 5 \tTraining Loss: 0.488274 \tValid Loss: 0.581185 \tACC train 0.834239 \tACC test 0.683230\n",
      "Epoch: 6 \tTraining Loss: 0.449807 \tValid Loss: 0.575696 \tACC train 0.875000 \tACC test 0.701863\n",
      "Validation Accuracy increased (0.701863 --> 0.701863).  Saving model ...\n",
      "Epoch: 7 \tTraining Loss: 0.436313 \tValid Loss: 0.583310 \tACC train 0.880435 \tACC test 0.701863\n",
      "Validation Accuracy increased (0.701863 --> 0.701863).  Saving model ...\n",
      "Epoch: 8 \tTraining Loss: 0.418646 \tValid Loss: 0.593775 \tACC train 0.896739 \tACC test 0.689441\n",
      "Epoch: 9 \tTraining Loss: 0.394563 \tValid Loss: 0.588349 \tACC train 0.923913 \tACC test 0.701863\n",
      "Validation Accuracy increased (0.701863 --> 0.701863).  Saving model ...\n",
      "Epoch: 10 \tTraining Loss: 0.383499 \tValid Loss: 0.603285 \tACC train 0.940217 \tACC test 0.664596\n",
      "Epoch: 11 \tTraining Loss: 0.378055 \tValid Loss: 0.602783 \tACC train 0.948370 \tACC test 0.670807\n",
      "Epoch: 12 \tTraining Loss: 0.371125 \tValid Loss: 0.579910 \tACC train 0.945652 \tACC test 0.701863\n",
      "Validation Accuracy increased (0.701863 --> 0.701863).  Saving model ...\n",
      "Epoch: 13 \tTraining Loss: 0.367675 \tValid Loss: 0.593415 \tACC train 0.956522 \tACC test 0.683230\n",
      "Epoch: 14 \tTraining Loss: 0.358923 \tValid Loss: 0.585709 \tACC train 0.956522 \tACC test 0.695652\n",
      "Epoch: 15 \tTraining Loss: 0.350863 \tValid Loss: 0.581428 \tACC train 0.970109 \tACC test 0.708075\n",
      "Validation Accuracy increased (0.701863 --> 0.708075).  Saving model ...\n",
      "Epoch: 16 \tTraining Loss: 0.352312 \tValid Loss: 0.586421 \tACC train 0.959239 \tACC test 0.695652\n",
      "Epoch: 17 \tTraining Loss: 0.356241 \tValid Loss: 0.611743 \tACC train 0.956522 \tACC test 0.689441\n",
      "Epoch: 18 \tTraining Loss: 0.358961 \tValid Loss: 0.577593 \tACC train 0.948370 \tACC test 0.714286\n",
      "Validation Accuracy increased (0.708075 --> 0.714286).  Saving model ...\n",
      "Epoch: 19 \tTraining Loss: 0.355590 \tValid Loss: 0.591630 \tACC train 0.964674 \tACC test 0.695652\n",
      "Epoch: 20 \tTraining Loss: 0.352648 \tValid Loss: 0.602295 \tACC train 0.961957 \tACC test 0.689441\n",
      "Epoch: 21 \tTraining Loss: 0.336695 \tValid Loss: 0.571512 \tACC train 0.978261 \tACC test 0.726708\n",
      "Validation Accuracy increased (0.714286 --> 0.726708).  Saving model ...\n",
      "Epoch: 22 \tTraining Loss: 0.342130 \tValid Loss: 0.596174 \tACC train 0.978261 \tACC test 0.695652\n",
      "Epoch: 23 \tTraining Loss: 0.347143 \tValid Loss: 0.589533 \tACC train 0.970109 \tACC test 0.714286\n",
      "Epoch: 24 \tTraining Loss: 0.340044 \tValid Loss: 0.571843 \tACC train 0.972826 \tACC test 0.739130\n",
      "Validation Accuracy increased (0.726708 --> 0.739130).  Saving model ...\n",
      "Epoch: 25 \tTraining Loss: 0.335476 \tValid Loss: 0.584918 \tACC train 0.983696 \tACC test 0.720497\n",
      "Epoch: 26 \tTraining Loss: 0.340889 \tValid Loss: 0.576887 \tACC train 0.970109 \tACC test 0.726708\n",
      "Epoch: 27 \tTraining Loss: 0.336731 \tValid Loss: 0.586027 \tACC train 0.983696 \tACC test 0.720497\n",
      "Epoch: 28 \tTraining Loss: 0.332350 \tValid Loss: 0.590371 \tACC train 0.980978 \tACC test 0.726708\n",
      "Epoch: 29 \tTraining Loss: 0.336941 \tValid Loss: 0.587781 \tACC train 0.972826 \tACC test 0.708075\n",
      "Epoch: 30 \tTraining Loss: 0.333561 \tValid Loss: 0.584556 \tACC train 0.986413 \tACC test 0.701863\n",
      "Epoch: 31 \tTraining Loss: 0.331142 \tValid Loss: 0.591912 \tACC train 0.983696 \tACC test 0.695652\n",
      "Epoch: 32 \tTraining Loss: 0.343557 \tValid Loss: 0.606811 \tACC train 0.967391 \tACC test 0.689441\n",
      "Epoch: 33 \tTraining Loss: 0.338872 \tValid Loss: 0.600293 \tACC train 0.975543 \tACC test 0.714286\n",
      "Epoch: 34 \tTraining Loss: 0.338273 \tValid Loss: 0.596324 \tACC train 0.970109 \tACC test 0.689441\n",
      "Epoch: 35 \tTraining Loss: 0.336429 \tValid Loss: 0.602551 \tACC train 0.983696 \tACC test 0.689441\n",
      "Epoch: 36 \tTraining Loss: 0.329312 \tValid Loss: 0.594611 \tACC train 0.986413 \tACC test 0.708075\n",
      "Epoch: 37 \tTraining Loss: 0.330676 \tValid Loss: 0.581209 \tACC train 0.983696 \tACC test 0.714286\n",
      "Epoch: 38 \tTraining Loss: 0.330783 \tValid Loss: 0.593218 \tACC train 0.986413 \tACC test 0.708075\n",
      "Epoch: 39 \tTraining Loss: 0.332624 \tValid Loss: 0.605860 \tACC train 0.980978 \tACC test 0.701863\n",
      "Epoch: 40 \tTraining Loss: 0.333123 \tValid Loss: 0.608004 \tACC train 0.978261 \tACC test 0.695652\n",
      "Epoch: 41 \tTraining Loss: 0.333792 \tValid Loss: 0.624034 \tACC train 0.983696 \tACC test 0.670807\n",
      "Epoch: 42 \tTraining Loss: 0.330571 \tValid Loss: 0.601110 \tACC train 0.980978 \tACC test 0.708075\n",
      "Epoch: 43 \tTraining Loss: 0.325950 \tValid Loss: 0.599776 \tACC train 0.989130 \tACC test 0.695652\n",
      "Epoch: 44 \tTraining Loss: 0.326414 \tValid Loss: 0.604495 \tACC train 0.989130 \tACC test 0.689441\n",
      "Epoch: 45 \tTraining Loss: 0.326259 \tValid Loss: 0.609159 \tACC train 0.989130 \tACC test 0.683230\n",
      "Epoch: 46 \tTraining Loss: 0.328713 \tValid Loss: 0.607817 \tACC train 0.983696 \tACC test 0.683230\n",
      "Epoch: 47 \tTraining Loss: 0.330347 \tValid Loss: 0.606084 \tACC train 0.983696 \tACC test 0.695652\n",
      "Epoch: 48 \tTraining Loss: 0.326144 \tValid Loss: 0.596213 \tACC train 0.986413 \tACC test 0.695652\n",
      "Epoch: 49 \tTraining Loss: 0.327510 \tValid Loss: 0.597354 \tACC train 0.986413 \tACC test 0.701863\n"
     ]
    },
    {
     "data": {
      "image/png": "[encoded data removed]",
      "text/plain": [
       "<Figure size 432x432 with 2 Axes>"
      ]
     },
     "metadata": {
      "needs_background": "light"
     },
     "output_type": "display_data"
    },
    {
     "data": {
      "image/png": "[encoded data removed]",
      "text/plain": [
       "<Figure size 360x360 with 1 Axes>"
      ]
     },
     "metadata": {
      "needs_background": "light"
     },
     "output_type": "display_data"
    },
    {
     "name": "stdout",
     "output_type": "stream",
     "text": [
      "Accuracy:  0.7018633540372671\n",
      "              precision    recall  f1-score   support\n",
      "\n",
      "         0.0     0.7807    0.7946    0.7876       112\n",
      "         1.0     0.5106    0.4898    0.5000        49\n",
      "\n",
      "    accuracy                         0.7019       161\n",
      "   macro avg     0.6457    0.6422    0.6438       161\n",
      "weighted avg     0.6985    0.7019    0.7001       161\n",
      "\n"
     ]
    }
   ],
   "source": [
    "classify(Xprosody, yValence)"
   ]
  },
  {
   "cell_type": "code",
   "execution_count": null,
   "metadata": {},
   "outputs": [],
   "source": []
  }
 ],
 "metadata": {
  "kernelspec": {
   "display_name": "Python 3",
   "language": "python",
   "name": "python3"
  },
  "language_info": {
   "codemirror_mode": {
    "name": "ipython",
    "version": 3
   },
   "file_extension": ".py",
   "mimetype": "text/x-python",
   "name": "python",
   "nbconvert_exporter": "python",
   "pygments_lexer": "ipython3",
   "version": "3.6.5"
  }
 },
 "nbformat": 4,
 "nbformat_minor": 2
}
